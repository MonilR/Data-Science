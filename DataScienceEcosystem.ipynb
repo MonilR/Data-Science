{
 "cells": [
  {
   "cell_type": "markdown",
   "id": "1a067e29-358b-41d8-b9af-34145a414fa8",
   "metadata": {},
   "source": [
    "# Data Science Tools and Ecosystem"
   ]
  },
  {
   "cell_type": "markdown",
   "id": "2891850a-23f6-48ac-9200-dd9f22de8d17",
   "metadata": {},
   "source": [
    "In this notebook, Data Science Tools and Ecosystem are summarized."
   ]
  },
  {
   "cell_type": "markdown",
   "id": "95059dc8-9546-4bfe-978d-cc0263cba9b0",
   "metadata": {},
   "source": [
    "Some of the popular languages that Data Scientists use are:\n",
    "\n",
    "1. Python\n",
    "2. R\n",
    "3. Julia"
   ]
  },
  {
   "cell_type": "markdown",
   "id": "72f67c6c-39bb-4127-8e45-d1600fb14263",
   "metadata": {},
   "source": [
    "Some of the commonly used libraries used by Data Scientists include:\n",
    "\n",
    "1. NumPy  \n",
    "2. Pandas  \n",
    "3. Matplotlib  \n",
    "4. Scikit-learn  \n",
    "5. TensorFlow "
   ]
  },
  {
   "cell_type": "markdown",
   "id": "36ce8603-da4f-4a86-90fd-fdad09588151",
   "metadata": {},
   "source": [
    "| Data Science Tools |\n",
    "|--------------------|\n",
    "| Jupyter Notebook  |\n",
    "| RStudio          |\n",
    "| Apache Zeppelin  |"
   ]
  },
  {
   "cell_type": "markdown",
   "id": "e9b0f783-8ca0-4a6d-91ed-bc59146aeccf",
   "metadata": {},
   "source": [
    "### Below are a few examples of evaluating arithmetic expressions in Python."
   ]
  },
  {
   "cell_type": "code",
   "execution_count": 15,
   "id": "a6de41d2-dbab-4778-bfb3-15d6ce5e1ed2",
   "metadata": {},
   "outputs": [
    {
     "data": {
      "text/plain": [
       "17"
      ]
     },
     "execution_count": 15,
     "metadata": {},
     "output_type": "execute_result"
    }
   ],
   "source": [
    "# This is a simple arithmetic expression to multiply then add integers\n",
    "(3 * 4) + 5  "
   ]
  },
  {
   "cell_type": "code",
   "execution_count": 18,
   "id": "8e8c8903-8124-404a-b3bb-a53d10368923",
   "metadata": {},
   "outputs": [
    {
     "data": {
      "text/plain": [
       "3.3333333333333335"
      ]
     },
     "execution_count": 18,
     "metadata": {},
     "output_type": "execute_result"
    }
   ],
   "source": [
    "# This will convert 200 minutes to hours by dividing by 60\n",
    "200 / 60  "
   ]
  },
  {
   "cell_type": "markdown",
   "id": "25b35c4e-8c8c-4e8e-a53a-8f08f08d9223",
   "metadata": {},
   "source": [
    "**Objectives:**  \n",
    "\n",
    "- List popular languages for Data Science  \n",
    "- Identify commonly used Data Science libraries  \n",
    "- Create tables to display Data Science tools  \n",
    "- Write and execute arithmetic expressions in Python  \n",
    "- Convert units using Python expressions  "
   ]
  },
  {
   "cell_type": "markdown",
   "id": "c32447a3-256a-46f7-9150-1d1be0ca4704",
   "metadata": {},
   "source": [
    "## Author  \n",
    "\n",
    "Monil Prajapati  "
   ]
  },
  {
   "cell_type": "code",
   "execution_count": null,
   "id": "846c991a-c7c1-49e9-a756-34637868ee04",
   "metadata": {},
   "outputs": [],
   "source": []
  }
 ],
 "metadata": {
  "kernelspec": {
   "display_name": "Python [conda env:base] *",
   "language": "python",
   "name": "conda-base-py"
  },
  "language_info": {
   "codemirror_mode": {
    "name": "ipython",
    "version": 3
   },
   "file_extension": ".py",
   "mimetype": "text/x-python",
   "name": "python",
   "nbconvert_exporter": "python",
   "pygments_lexer": "ipython3",
   "version": "3.12.7"
  }
 },
 "nbformat": 4,
 "nbformat_minor": 5
}
